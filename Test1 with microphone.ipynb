{
 "cells": [
  {
   "cell_type": "code",
   "execution_count": null,
   "metadata": {},
   "outputs": [
    {
     "name": "stdout",
     "output_type": "stream",
     "text": [
      "image clicked\n",
      "Speak Anything :\n",
      "You said : hello Google\n",
      "hello Google\n",
      "\n"
     ]
    }
   ],
   "source": [
    "import speech_recognition as sr     # import the library\n",
    "import tkinter as tk\n",
    "from tkinter import*\n",
    "import PIL        \n",
    "from PIL import ImageTk, Image\n",
    "import nltk\n",
    "\n",
    "top=tk.Tk()\n",
    "top.title('GUI Interface')\n",
    "top.geometry(\"400x200\") \n",
    "\n",
    "frame = Frame(top)\n",
    "frame.pack()\n",
    "\n",
    "img = PhotoImage(file=\"/Users/aarinasonkar/Desktop/microphone.png\")\n",
    "\n",
    "w = Label(frame, text='\\nPress Mic to speak!', borderwidth=1, relief=\"raised\") \n",
    "w.pack(side=BOTTOM)\n",
    "#w.place(x = 350, y = 160)\n",
    "\n",
    "def speech_to_text():\n",
    "    r = sr.Recognizer()                 # initialize recognizer\n",
    "    with sr.Microphone(device_index=2) as source:     # mention source it will be either Microphone or audio files.\n",
    "        print(\"Speak Anything :\")\n",
    "        #w = Label(frame, text='\\nSpeak now!', borderwidth=1, relief=\"raised\") \n",
    "        #w.pack(side=BOTTOM)\n",
    "        #w.pack()\n",
    "        #w.place(x = 360, y = 180)\n",
    "        \n",
    "        audio = r.listen(source)        \n",
    "        try:\n",
    "            text = r.recognize_google(audio)    # use recognizer to convert our audio into text part.\n",
    "            print(\"You said : {}\".format(text))\n",
    "            \n",
    "            sentences = nltk.sent_tokenize(text)\n",
    "            for sentence in sentences:\n",
    "                print(sentence)\n",
    "                print()\n",
    "        \n",
    "                w = Label(frame, text=sentence, borderwidth=2, relief=\"groove\")\n",
    "                w.pack(side = BOTTOM)\n",
    "                #w.pack()\n",
    "                #w.place(x = 0, y = 0)\n",
    "        \n",
    "        except:\n",
    "            y = Label(frame, text=\"Sorry could not recognize your voice!\", borderwidth=2, relief=\"groove\")\n",
    "            y.pack(side = BOTTOM)\n",
    "            #y.pack()\n",
    "            #y.place(x = 0, y = 0)\n",
    "            print(\"Sorry could not recognize your voice\")    # In case of voice not recognized  clearly\n",
    "\n",
    "\n",
    "def on_click(event=None):\n",
    "    #w = Label(frame, text='Speak now!', borderwidth=2, relief=\"sunken\") \n",
    "    #w.pack(side=BOTTOM)\n",
    "    #w.place(x = 400, y = 100)\n",
    "    print(\"image clicked\")\n",
    "    speech_to_text()\n",
    "    \n",
    "        \n",
    "b = tk.Button(frame, image=img, command=on_click)\n",
    "b.pack(side = RIGHT)\n",
    "#b.place(x = 360, y = 0)\n",
    "\n",
    "\n",
    "top.mainloop()"
   ]
  },
  {
   "cell_type": "code",
   "execution_count": null,
   "metadata": {},
   "outputs": [],
   "source": []
  },
  {
   "cell_type": "code",
   "execution_count": null,
   "metadata": {},
   "outputs": [],
   "source": []
  }
 ],
 "metadata": {
  "kernelspec": {
   "display_name": "Python 3",
   "language": "python",
   "name": "python3"
  },
  "language_info": {
   "codemirror_mode": {
    "name": "ipython",
    "version": 3
   },
   "file_extension": ".py",
   "mimetype": "text/x-python",
   "name": "python",
   "nbconvert_exporter": "python",
   "pygments_lexer": "ipython3",
   "version": "3.7.3"
  }
 },
 "nbformat": 4,
 "nbformat_minor": 2
}
